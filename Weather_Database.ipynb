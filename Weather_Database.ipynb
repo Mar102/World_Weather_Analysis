{
 "metadata": {
  "language_info": {
   "codemirror_mode": {
    "name": "ipython",
    "version": 3
   },
   "file_extension": ".py",
   "mimetype": "text/x-python",
   "name": "python",
   "nbconvert_exporter": "python",
   "pygments_lexer": "ipython3",
   "version": 3
  },
  "orig_nbformat": 2,
  "kernelspec": {
   "name": "python_defaultSpec_1595481824126",
   "display_name": "Python 3.7.7 64-bit ('PythonData': conda)"
  }
 },
 "nbformat": 4,
 "nbformat_minor": 2,
 "cells": [
  {
   "cell_type": "code",
   "execution_count": 12,
   "metadata": {},
   "outputs": [],
   "source": [
    "# Import the dependencies.\n",
    "import pandas as pd\n",
    "import matplotlib.pyplot as plt\n",
    "import numpy as np\n",
    "\n",
    "# Import the requests library.\n",
    "import requests\n",
    "\n",
    "# Import the datetime module from the datetime library.\n",
    "from datetime import datetime\n",
    "\n",
    "#Import random module \n",
    "import random\n",
    "\n",
    "#import the time module.\n",
    "import time\n",
    "\n",
    "# Use the citipy module to determine city based on latitude and longitude.\n",
    "from citipy import citipy\n",
    "# Import the API key.\n",
    "from config import weather_api_key"
   ]
  },
  {
   "cell_type": "code",
   "execution_count": 13,
   "metadata": {},
   "outputs": [
    {
     "output_type": "execute_result",
     "data": {
      "text/plain": "<zip at 0x151627e4dc8>"
     },
     "metadata": {},
     "execution_count": 13
    }
   ],
   "source": [
    "# Create a set of random latitudes and longitudes combinations. \n",
    "lats = np.random.uniform(low=-90.000, high=90.000, size=1500)\n",
    "lngs = np.random.uniform(low=-180.000, high=180.000, size=1500)\n",
    "lat_lngs = zip(lats,lngs)\n",
    "lat_lngs"
   ]
  },
  {
   "cell_type": "code",
   "execution_count": 14,
   "metadata": {},
   "outputs": [],
   "source": [
    "# Add the latitudes and longitudes to a list.\n",
    "coordinates = list(lat_lngs)"
   ]
  },
  {
   "cell_type": "code",
   "execution_count": 15,
   "metadata": {},
   "outputs": [
    {
     "output_type": "execute_result",
     "data": {
      "text/plain": "634"
     },
     "metadata": {},
     "execution_count": 15
    }
   ],
   "source": [
    "# Create a list for holding the cities.\n",
    "cities = []\n",
    "# Identify the nearest city for each latitude and longitude combination.\n",
    "for coordinate in coordinates:\n",
    "    city = citipy.nearest_city(coordinate[0], coordinate[1]).city_name\n",
    "    \n",
    "    # If the city is unique, then we will add it to the cities list.\n",
    "    if city not in cities:\n",
    "        cities.append(city)\n",
    "# Print the city count to confirm sufficient count.\n",
    "len(cities)"
   ]
  },
  {
   "cell_type": "code",
   "execution_count": 16,
   "metadata": {
    "tags": []
   },
   "outputs": [
    {
     "output_type": "stream",
     "name": "stdout",
     "text": "http://api.openweathermap.org/data/2.5/weather?units=Imperial&APPID=9db81e573cb2ea5274be8d5a55888a45\n"
    }
   ],
   "source": [
    "# Starting URL for Weather Map API Call.\n",
    "url = \"http://api.openweathermap.org/data/2.5/weather?units=Imperial&APPID=\" + weather_api_key\n",
    "print(url)"
   ]
  },
  {
   "cell_type": "code",
   "execution_count": 6,
   "metadata": {
    "tags": []
   },
   "outputs": [
    {
     "output_type": "stream",
     "name": "stdout",
     "text": "of Set 16 | pacific grove\nProcessing Record 41 of Set 16 | yakeshi\nProcessing Record 42 of Set 16 | ruatoria\nCity not found. Skipping...\nProcessing Record 43 of Set 16 | grand-lahou\nProcessing Record 44 of Set 16 | tambun\nProcessing Record 45 of Set 16 | saleaula\nCity not found. Skipping...\nProcessing Record 46 of Set 16 | kashiwazaki\nProcessing Record 47 of Set 16 | sabang\nProcessing Record 48 of Set 16 | karratha\nProcessing Record 49 of Set 16 | vrangel\nProcessing Record 50 of Set 16 | manjeshwar\nProcessing Record 1 of Set 17 | bay roberts\nProcessing Record 2 of Set 17 | san clemente\nProcessing Record 3 of Set 17 | ahipara\nProcessing Record 4 of Set 17 | florence\nProcessing Record 5 of Set 17 | caravelas\nProcessing Record 6 of Set 17 | bairiki\nProcessing Record 7 of Set 17 | halalo\nCity not found. Skipping...\nProcessing Record 8 of Set 17 | broken hill\nProcessing Record 9 of Set 17 | ust-kamchatsk\nCity not found. Skipping...\nProcessing Record 10 of Set 17 | chuy\nProcessing Record 11 of Set 17 | jasper\nProcessing Record 12 of Set 17 | tautira\nProcessing Record 13 of Set 17 | toliary\nCity not found. Skipping...\nProcessing Record 14 of Set 17 | lorengau\nProcessing Record 15 of Set 17 | olafsvik\nProcessing Record 16 of Set 17 | meulaboh\nProcessing Record 17 of Set 17 | shirokiy\nProcessing Record 18 of Set 17 | new norfolk\nProcessing Record 19 of Set 17 | leningradskiy\nProcessing Record 20 of Set 17 | east london\nProcessing Record 21 of Set 17 | buckeye\nProcessing Record 22 of Set 17 | clyde river\nProcessing Record 23 of Set 17 | hasaki\nProcessing Record 24 of Set 17 | puerto rico\nProcessing Record 25 of Set 17 | coolum beach\nProcessing Record 26 of Set 17 | port augusta\nProcessing Record 27 of Set 17 | mangla\nProcessing Record 28 of Set 17 | katobu\nProcessing Record 29 of Set 17 | faya\nProcessing Record 30 of Set 17 | pochutla\nProcessing Record 31 of Set 17 | souillac\nProcessing Record 32 of Set 17 | garowe\nProcessing Record 33 of Set 17 | aklavik\nProcessing Record 34 of Set 17 | zakamensk\nProcessing Record 35 of Set 17 | ternate\nProcessing Record 36 of Set 17 | lebu\nProcessing Record 37 of Set 17 | bontang\nProcessing Record 38 of Set 17 | finschhafen\nProcessing Record 39 of Set 17 | ust-maya\nProcessing Record 40 of Set 17 | constitucion\nProcessing Record 41 of Set 17 | mount holly\nProcessing Record 42 of Set 17 | whyalla\nProcessing Record 43 of Set 17 | caramay\nProcessing Record 44 of Set 17 | melekhovskaya\nCity not found. Skipping...\nProcessing Record 45 of Set 17 | cowra\nProcessing Record 46 of Set 17 | bereda\nProcessing Record 47 of Set 17 | siavonga\nProcessing Record 48 of Set 17 | srednekolymsk\nProcessing Record 49 of Set 17 | hambantota\nProcessing Record 50 of Set 17 | grindavik\nProcessing Record 1 of Set 18 | ancud\nProcessing Record 2 of Set 18 | cairns\nProcessing Record 3 of Set 18 | walvis bay\nProcessing Record 4 of Set 18 | kedrovyy\nProcessing Record 5 of Set 18 | alice springs\nProcessing Record 6 of Set 18 | hami\nProcessing Record 7 of Set 18 | aripuana\nProcessing Record 8 of Set 18 | ladysmith\nProcessing Record 9 of Set 18 | samusu\nCity not found. Skipping...\nProcessing Record 10 of Set 18 | mao\nProcessing Record 11 of Set 18 | baker city\nProcessing Record 12 of Set 18 | longyearbyen\nProcessing Record 13 of Set 18 | mount gambier\nProcessing Record 14 of Set 18 | marfino\nProcessing Record 15 of Set 18 | del rio\nProcessing Record 16 of Set 18 | saldanha\nProcessing Record 17 of Set 18 | dingle\nProcessing Record 18 of Set 18 | muros\nProcessing Record 19 of Set 18 | coahuayana\nProcessing Record 20 of Set 18 | curumani\nProcessing Record 21 of Set 18 | grand gaube\nProcessing Record 22 of Set 18 | belyy yar\nProcessing Record 23 of Set 18 | san andres\nProcessing Record 24 of Set 18 | inderborskiy\nCity not found. Skipping...\nProcessing Record 25 of Set 18 | port hardy\nProcessing Record 26 of Set 18 | severo-kurilsk\nProcessing Record 27 of Set 18 | pasni\nProcessing Record 28 of Set 18 | louisbourg\nCity not found. Skipping...\nProcessing Record 29 of Set 18 | husavik\nProcessing Record 30 of Set 18 | grenfell\nProcessing Record 31 of Set 18 | te anau\nProcessing Record 32 of Set 18 | los llanos de aridane\nProcessing Record 33 of Set 18 | bayji\nProcessing Record 34 of Set 18 | saint-pierre\nProcessing Record 35 of Set 18 | halifax\nProcessing Record 36 of Set 18 | nouadhibou\nProcessing Record 37 of Set 18 | acapulco\nProcessing Record 38 of Set 18 | esperance\nProcessing Record 39 of Set 18 | altay\nProcessing Record 40 of Set 18 | puerto ayacucho\nProcessing Record 41 of Set 18 | nizhniy kuranakh\nProcessing Record 42 of Set 18 | jodhpur\nProcessing Record 43 of Set 18 | puerto colombia\nProcessing Record 44 of Set 18 | kachiry\nProcessing Record 45 of Set 18 | granadilla de abona\nProcessing Record 46 of Set 18 | ilinskiy\nProcessing Record 47 of Set 18 | digras\nProcessing Record 48 of Set 18 | alofi\nProcessing Record 49 of Set 18 | challans\nProcessing Record 50 of Set 18 | moose factory\nProcessing Record 1 of Set 19 | wana\nProcessing Record 2 of Set 19 | salalah\nProcessing Record 3 of Set 19 | wegrow\nProcessing Record 4 of Set 19 | lavrentiya\nProcessing Record 5 of Set 19 | estreito\nProcessing Record 6 of Set 19 | lichinga\nProcessing Record 7 of Set 19 | batemans bay\nProcessing Record 8 of Set 19 | lazarev\nProcessing Record 9 of Set 19 | belyy\nProcessing Record 10 of Set 19 | biak\nProcessing Record 11 of Set 19 | tabialan\nCity not found. Skipping...\nProcessing Record 12 of Set 19 | half moon bay\nProcessing Record 13 of Set 19 | wahiawa\nProcessing Record 14 of Set 19 | awbari\nProcessing Record 15 of Set 19 | springdale\nProcessing Record 16 of Set 19 | carutapera\nProcessing Record 17 of Set 19 | phnum penh\nCity not found. Skipping...\nProcessing Record 18 of Set 19 | lazaro cardenas\nProcessing Record 19 of Set 19 | santarem\nProcessing Record 20 of Set 19 | stromness\nProcessing Record 21 of Set 19 | majene\nProcessing Record 22 of Set 19 | satipo\nProcessing Record 23 of Set 19 | hobyo\nProcessing Record 24 of Set 19 | peleduy\nProcessing Record 25 of Set 19 | charleville-mezieres\nProcessing Record 26 of Set 19 | luebo\nProcessing Record 27 of Set 19 | kangaatsiaq\nProcessing Record 28 of Set 19 | fortuna\nProcessing Record 29 of Set 19 | makokou\nProcessing Record 30 of Set 19 | badiraguato\nProcessing Record 31 of Set 19 | galveston\nProcessing Record 32 of Set 19 | nguiu\nCity not found. Skipping...\nProcessing Record 33 of Set 19 | mirnyy\nProcessing Record 34 of Set 19 | chagda\nCity not found. Skipping...\nProcessing Record 35 of Set 19 | arroyo\nProcessing Record 36 of Set 19 | darhan\nProcessing Record 37 of Set 19 | illapel\nProcessing Record 38 of Set 19 | mangile\nCity not found. Skipping...\nProcessing Record 39 of Set 19 | tingo maria\nProcessing Record 40 of Set 19 | goundi\nProcessing Record 41 of Set 19 | ilulissat\nProcessing Record 42 of Set 19 | southbridge\nProcessing Record 43 of Set 19 | sinkat\nCity not found. Skipping...\nProcessing Record 44 of Set 19 | salisbury\nProcessing Record 45 of Set 19 | provideniya\nProcessing Record 46 of Set 19 | leh\nProcessing Record 47 of Set 19 | jacqueville\nProcessing Record 48 of Set 19 | sorong\nProcessing Record 49 of Set 19 | estelle\nProcessing Record 50 of Set 19 | ihosy\nProcessing Record 1 of Set 20 | turukhansk\nProcessing Record 2 of Set 20 | vila velha\nProcessing Record 3 of Set 20 | kstovo\nProcessing Record 4 of Set 20 | ponta do sol\nProcessing Record 5 of Set 20 | rundu\nProcessing Record 6 of Set 20 | bulaevo\nProcessing Record 7 of Set 20 | dawlatabad\nProcessing Record 8 of Set 20 | shaunavon\nProcessing Record 9 of Set 20 | yar-sale\nProcessing Record 10 of Set 20 | kieta\nProcessing Record 11 of Set 20 | wahran\nCity not found. Skipping...\nProcessing Record 12 of Set 20 | brae\nProcessing Record 13 of Set 20 | neokhoropoulon\nCity not found. Skipping...\nProcessing Record 14 of Set 20 | mitsamiouli\nProcessing Record 15 of Set 20 | warrensburg\nProcessing Record 16 of Set 20 | mys shmidta\nCity not found. Skipping...\nProcessing Record 17 of Set 20 | sorvag\nCity not found. Skipping...\nProcessing Record 18 of Set 20 | labuhan\nProcessing Record 19 of Set 20 | tunceli\nProcessing Record 20 of Set 20 | khorixas\nProcessing Record 21 of Set 20 | ocna mures\nProcessing Record 22 of Set 20 | beringovskiy\nProcessing Record 23 of Set 20 | saint anthony\nProcessing Record 24 of Set 20 | richards bay\nProcessing Record 25 of Set 20 | kamenskoye\nCity not found. Skipping...\nProcessing Record 26 of Set 20 | abilene\nProcessing Record 27 of Set 20 | lagoa\nProcessing Record 28 of Set 20 | pamanukan\nProcessing Record 29 of Set 20 | quatre cocos\nProcessing Record 30 of Set 20 | khasan\nProcessing Record 31 of Set 20 | aranos\nProcessing Record 32 of Set 20 | barranca\nProcessing Record 33 of Set 20 | rio grande\nProcessing Record 34 of Set 20 | mount pleasant\nProcessing Record 35 of Set 20 | cabo san lucas\nProcessing Record 36 of Set 20 | saskylakh\nProcessing Record 37 of Set 20 | ust-kuyga\nProcessing Record 38 of Set 20 | kapoeta\nProcessing Record 39 of Set 20 | nuuk\nProcessing Record 40 of Set 20 | gorin\nProcessing Record 41 of Set 20 | liyang\nProcessing Record 42 of Set 20 | sinjah\nCity not found. Skipping...\nProcessing Record 43 of Set 20 | boquira\nProcessing Record 44 of Set 20 | ucluelet\nProcessing Record 45 of Set 20 | vanavara\nProcessing Record 46 of Set 20 | puerto escondido\nProcessing Record 47 of Set 20 | kazalinsk\nCity not found. Skipping...\nProcessing Record 48 of Set 20 | celestun\nProcessing Record 49 of Set 20 | lasa\nProcessing Record 50 of Set 20 | tena\nProcessing Record 1 of Set 21 | praia da vitoria\nProcessing Record 2 of Set 21 | grand-santi\nProcessing Record 3 of Set 21 | tarakan\nProcessing Record 4 of Set 21 | myre\nProcessing Record 5 of Set 21 | ijaki\nCity not found. Skipping...\nProcessing Record 6 of Set 21 | kytlym\nCity not found. Skipping...\nProcessing Record 7 of Set 21 | college\nProcessing Record 8 of Set 21 | rensvik\nProcessing Record 9 of Set 21 | polunochnoye\nProcessing Record 10 of Set 21 | kendal\nProcessing Record 11 of Set 21 | sabha\nProcessing Record 12 of Set 21 | port macquarie\nProcessing Record 13 of Set 21 | nizhneyansk\nCity not found. Skipping...\nProcessing Record 14 of Set 21 | yilan\nProcessing Record 15 of Set 21 | batticaloa\nProcessing Record 16 of Set 21 | maniitsoq\nProcessing Record 17 of Set 21 | saint-francois\nProcessing Record 18 of Set 21 | saint-felicien\nProcessing Record 19 of Set 21 | umkomaas\nProcessing Record 20 of Set 21 | anderson\nProcessing Record 21 of Set 21 | okoneshnikovo\nProcessing Record 22 of Set 21 | aswan\nProcessing Record 23 of Set 21 | warrington\nProcessing Record 24 of Set 21 | lexington\nProcessing Record 25 of Set 21 | sibolga\nProcessing Record 26 of Set 21 | san juan\nProcessing Record 27 of Set 21 | sakaiminato\nProcessing Record 28 of Set 21 | shubarshi\nProcessing Record 29 of Set 21 | roswell\nProcessing Record 30 of Set 21 | senanga\nProcessing Record 31 of Set 21 | kerman\nProcessing Record 32 of Set 21 | padang\nProcessing Record 33 of Set 21 | yamethin\nProcessing Record 34 of Set 21 | necochea\nProcessing Record 35 of Set 21 | kropotkin\nProcessing Record 36 of Set 21 | domat\nProcessing Record 37 of Set 21 | mahesana\nProcessing Record 38 of Set 21 | carbonia\nProcessing Record 39 of Set 21 | egvekinot\nProcessing Record 40 of Set 21 | juba\nProcessing Record 41 of Set 21 | larsnes\nProcessing Record 42 of Set 21 | bur gabo\nCity not found. Skipping...\nProcessing Record 43 of Set 21 | harnosand\nProcessing Record 44 of Set 21 | bengkulu\nProcessing Record 45 of Set 21 | baculin\nProcessing Record 46 of Set 21 | intipuca\nProcessing Record 47 of Set 21 | huangyan\nProcessing Record 48 of Set 21 | muzaffarabad\nProcessing Record 49 of Set 21 | storm lake\nProcessing Record 50 of Set 21 | ouadda\nProcessing Record 1 of Set 22 | trincomalee\nProcessing Record 2 of Set 22 | hofn\nProcessing Record 3 of Set 22 | pauini\nProcessing Record 4 of Set 22 | alyangula\nProcessing Record 5 of Set 22 | araouane\nProcessing Record 6 of Set 22 | sitka\nProcessing Record 7 of Set 22 | tura\nProcessing Record 8 of Set 22 | peta\nProcessing Record 9 of Set 22 | wenchi\nProcessing Record 10 of Set 22 | madimba\nProcessing Record 11 of Set 22 | lujan\nProcessing Record 12 of Set 22 | nizwa\nProcessing Record 13 of Set 22 | henties bay\nProcessing Record 14 of Set 22 | nioro\nProcessing Record 15 of Set 22 | jieshi\nProcessing Record 16 of Set 22 | el alto\nProcessing Record 17 of Set 22 | pitimbu\nProcessing Record 18 of Set 22 | tabuk\nProcessing Record 19 of Set 22 | pokosnoye\nProcessing Record 20 of Set 22 | novomikhaylovskiy\nProcessing Record 21 of Set 22 | swan river\nProcessing Record 22 of Set 22 | weligama\nProcessing Record 23 of Set 22 | samfya\nProcessing Record 24 of Set 22 | nanortalik\nProcessing Record 25 of Set 22 | nelson bay\nProcessing Record 26 of Set 22 | ous\nProcessing Record 27 of Set 22 | vao\nProcessing Record 28 of Set 22 | kailua\nProcessing Record 29 of Set 22 | ordynskoye\nProcessing Record 30 of Set 22 | pinehurst\nProcessing Record 31 of Set 22 | great yarmouth\nProcessing Record 32 of Set 22 | honiara\nProcessing Record 33 of Set 22 | lolua\nCity not found. Skipping...\nProcessing Record 34 of Set 22 | ossora\nProcessing Record 35 of Set 22 | christchurch\nProcessing Record 36 of Set 22 | mandla\nProcessing Record 37 of Set 22 | mbaiki\nProcessing Record 38 of Set 22 | cockburn town\nProcessing Record 39 of Set 22 | lumphat\nProcessing Record 40 of Set 22 | san cristobal\nProcessing Record 41 of Set 22 | qinzhou\nProcessing Record 42 of Set 22 | amuntai\nProcessing Record 43 of Set 22 | ovsyanka\nProcessing Record 44 of Set 22 | dunedin\nProcessing Record 45 of Set 22 | safaga\nProcessing Record 46 of Set 22 | ostrovnoy\nProcessing Record 47 of Set 22 | tomohon\nProcessing Record 48 of Set 22 | portland\nProcessing Record 49 of Set 22 | a\nCity not found. Skipping...\nProcessing Record 50 of Set 22 | chifeng\nProcessing Record 1 of Set 23 | stephenville\nProcessing Record 2 of Set 23 | alotau\nCity not found. Skipping...\nProcessing Record 3 of Set 23 | malwan\nCity not found. Skipping...\nProcessing Record 4 of Set 23 | cidreira\nProcessing Record 5 of Set 23 | parati\nProcessing Record 6 of Set 23 | mosquera\nProcessing Record 7 of Set 23 | karkaralinsk\nCity not found. Skipping...\nProcessing Record 8 of Set 23 | ambilobe\nProcessing Record 9 of Set 23 | mayya\nProcessing Record 10 of Set 23 | bayevo\nProcessing Record 11 of Set 23 | yeletskiy\nCity not found. Skipping...\nProcessing Record 12 of Set 23 | mangrol\nProcessing Record 13 of Set 23 | suntar\nProcessing Record 14 of Set 23 | kenora\nProcessing Record 15 of Set 23 | naze\nProcessing Record 16 of Set 23 | sistranda\nProcessing Record 17 of Set 23 | cayenne\nProcessing Record 18 of Set 23 | longview\nProcessing Record 19 of Set 23 | south lake tahoe\nProcessing Record 20 of Set 23 | salamanca\nProcessing Record 21 of Set 23 | takoradi\nProcessing Record 22 of Set 23 | talcahuano\nProcessing Record 23 of Set 23 | amot\nProcessing Record 24 of Set 23 | inyonga\nProcessing Record 25 of Set 23 | giyani\nProcessing Record 26 of Set 23 | mrirt\nCity not found. Skipping...\nProcessing Record 27 of Set 23 | urengoy\nProcessing Record 28 of Set 23 | russell\nProcessing Record 29 of Set 23 | sinop\nProcessing Record 30 of Set 23 | general roca\nProcessing Record 31 of Set 23 | linxia\nProcessing Record 32 of Set 23 | opuwo\nProcessing Record 33 of Set 23 | copiapo\nProcessing Record 34 of Set 23 | champerico\nProcessing Record 35 of Set 23 | bardiyah\nProcessing Record 36 of Set 23 | silchar\nProcessing Record 37 of Set 23 | neyshabur\nProcessing Record 38 of Set 23 | geraldton\nProcessing Record 39 of Set 23 | waddan\nProcessing Record 40 of Set 23 | hendijan\nCity not found. Skipping...\nProcessing Record 41 of Set 23 | grunberg\nProcessing Record 42 of Set 23 | golden\nProcessing Record 43 of Set 23 | buchanan\nProcessing Record 44 of Set 23 | mufulira\nProcessing Record 45 of Set 23 | san jose\nProcessing Record 46 of Set 23 | port-gentil\nProcessing Record 47 of Set 23 | kirakira\nProcessing Record 48 of Set 23 | okhotsk\nProcessing Record 49 of Set 23 | akyab\nProcessing Record 50 of Set 23 | paamiut\nProcessing Record 1 of Set 24 | cancun\nProcessing Record 2 of Set 24 | ranong\nProcessing Record 3 of Set 24 | zhangjiakou\nProcessing Record 4 of Set 24 | vangaindrano\nProcessing Record 5 of Set 24 | salvador\nProcessing Record 6 of Set 24 | domoni\nProcessing Record 7 of Set 24 | uk\nCity not found. Skipping...\nProcessing Record 8 of Set 24 | erenhot\nProcessing Record 9 of Set 24 | orlik\nProcessing Record 10 of Set 24 | ituni\nCity not found. Skipping...\nProcessing Record 11 of Set 24 | oriximina\nProcessing Record 12 of Set 24 | bilgram\nProcessing Record 13 of Set 24 | bonfim\nProcessing Record 14 of Set 24 | bantou\nProcessing Record 15 of Set 24 | tezu\nProcessing Record 16 of Set 24 | agdas\nProcessing Record 17 of Set 24 | kheri\nProcessing Record 18 of Set 24 | udachnyy\nProcessing Record 19 of Set 24 | lahore\nProcessing Record 20 of Set 24 | brigantine\nProcessing Record 21 of Set 24 | narsaq\nProcessing Record 22 of Set 24 | kotido\nProcessing Record 23 of Set 24 | shimoda\nProcessing Record 24 of Set 24 | katsuura\nProcessing Record 25 of Set 24 | smithers\nProcessing Record 26 of Set 24 | temiscaming\nProcessing Record 27 of Set 24 | brazzaville\nProcessing Record 28 of Set 24 | luxor\nProcessing Record 29 of Set 24 | babanusah\nCity not found. Skipping...\nProcessing Record 30 of Set 24 | kutum\nProcessing Record 31 of Set 24 | mariestad\nProcessing Record 32 of Set 24 | samarai\nProcessing Record 33 of Set 24 | vryburg\nProcessing Record 34 of Set 24 | annur\nProcessing Record 35 of Set 24 | touros\nProcessing Record 36 of Set 24 | pinega\nProcessing Record 37 of Set 24 | filadelfia\nProcessing Record 38 of Set 24 | pitea\nProcessing Record 39 of Set 24 | lalibela\nProcessing Record 40 of Set 24 | juneau\nProcessing Record 41 of Set 24 | elk river\nProcessing Record 42 of Set 24 | terney\nProcessing Record 43 of Set 24 | skalistyy\nCity not found. Skipping...\nProcessing Record 44 of Set 24 | manicore\nProcessing Record 45 of Set 24 | vila franca do campo\nProcessing Record 46 of Set 24 | astoria\nProcessing Record 47 of Set 24 | saint-joseph\nProcessing Record 48 of Set 24 | bilma\nProcessing Record 49 of Set 24 | komsomolskiy\nProcessing Record 50 of Set 24 | tual\nProcessing Record 1 of Set 25 | wenling\nProcessing Record 2 of Set 25 | kano\nProcessing Record 3 of Set 25 | lompoc\nProcessing Record 4 of Set 25 | bambous virieux\nProcessing Record 5 of Set 25 | raymondville\nProcessing Record 6 of Set 25 | dogondoutchi\nProcessing Record 7 of Set 25 | chor\nProcessing Record 8 of Set 25 | norilsk\nProcessing Record 9 of Set 25 | marsh harbour\nProcessing Record 10 of Set 25 | nemuro\nProcessing Record 11 of Set 25 | liloy\nProcessing Record 12 of Set 25 | kasongo-lunda\nProcessing Record 13 of Set 25 | petropavlovsk-kamchatskiy\nProcessing Record 14 of Set 25 | poum\nProcessing Record 15 of Set 25 | belmonte\nProcessing Record 16 of Set 25 | paragominas\nProcessing Record 17 of Set 25 | tumannyy\nCity not found. Skipping...\nProcessing Record 18 of Set 25 | dwarka\nProcessing Record 19 of Set 25 | tete\nProcessing Record 20 of Set 25 | saint-augustin\nProcessing Record 21 of Set 25 | warqla\nCity not found. Skipping...\nProcessing Record 22 of Set 25 | atambua\nProcessing Record 23 of Set 25 | sambava\nProcessing Record 24 of Set 25 | mogadishu\nProcessing Record 25 of Set 25 | samagaltay\nProcessing Record 26 of Set 25 | papetoai\nProcessing Record 27 of Set 25 | doka\nProcessing Record 28 of Set 25 | bull savanna\nProcessing Record 29 of Set 25 | grand baie\nProcessing Record 30 of Set 25 | ariquemes\nProcessing Record 31 of Set 25 | huarmey\nProcessing Record 32 of Set 25 | roald\nProcessing Record 33 of Set 25 | caiaponia\nProcessing Record 34 of Set 25 | mitzic\nProcessing Record 35 of Set 25 | oranzherei\nProcessing Record 36 of Set 25 | gboko\nProcessing Record 37 of Set 25 | mujiayingzi\nProcessing Record 38 of Set 25 | beaverlodge\nProcessing Record 39 of Set 25 | pitsunda\n"
    }
   ],
   "source": [
    "# Create an empty list to hold the weather data. \n",
    "city_data = []\n",
    "#Print the begining of the logging. \n",
    "print(\"Begining Data Retrieval  \")\n",
    "print(\"-------------------------\")\n",
    "\n",
    "#Create counters at 1 because we want both to start at 1 \n",
    "record_count = 1\n",
    "set_count = 1\n",
    "\n",
    "# Loop through all the cities in our list.\n",
    "for i in range(len(cities)):\n",
    "\n",
    "    # Group cities in sets of 50 for logging purposes.\n",
    "    if (i % 50 == 0 and i >= 50):\n",
    "        set_count += 1\n",
    "        record_count = 1\n",
    "    # Create endpoint URL with each city.\n",
    "    city_url = url + \"&q=\" + \"i\"\n",
    "\n",
    "# Loop through all the cities in the list.\n",
    "for i, city in enumerate(cities):\n",
    "\n",
    "    # Group cities in sets of 50 for logging purposes.\n",
    "    if (i % 50 == 0 and i >= 50):\n",
    "        set_count += 1\n",
    "        record_count = 1\n",
    "    # Create endpoint URL with each city.\n",
    "    city_url = url + \"&q=\" + city.replace(\" \",\"+\")\n",
    "\n",
    "    # Log the URL, record, and set numbers and the city.\n",
    "    print(f\"Processing Record {record_count} of Set {set_count} | {city}\")\n",
    "    # Add 1 to the record count.\n",
    "    record_count += 1\n",
    "    # Run an API request for each of the cities.\n",
    "    try:\n",
    "        # Parse the JSON and retrieve data.\n",
    "        city_weather = requests.get(city_url).json()\n",
    "        # Parse out the needed data.\n",
    "        city_lat = city_weather[\"coord\"][\"lat\"]\n",
    "        city_lng = city_weather[\"coord\"][\"lon\"]\n",
    "        city_max_temp = city_weather[\"main\"][\"temp_max\"]\n",
    "        city_humidity = city_weather[\"main\"][\"humidity\"]\n",
    "        city_clouds = city_weather[\"clouds\"][\"all\"]\n",
    "        city_wind = city_weather[\"wind\"][\"speed\"]\n",
    "        city_country = city_weather[\"sys\"][\"country\"]\n",
    "        \n",
    "        try:\n",
    "            city_rain = city_weather[\"rain\"][\"1h\"] \n",
    "        except:\n",
    "            city_rain = 0\n",
    "        pass\n",
    "        \n",
    "        try:\n",
    "            city_snow = city_weather[\"snow\"][\"1h\"]\n",
    "        except:\n",
    "            city_snow = 0\n",
    "        pass\n",
    "\n",
    "        city_description = city_weather[\"weather\"][0][\"description\"]\n",
    "\n",
    "        # Append the city information into city_data list.\n",
    "        city_data.append({\"City\": city.title(),\n",
    "                          \"Lat\": city_lat,\n",
    "                          \"Lng\": city_lng,\n",
    "                          \"Max Temp\": city_max_temp,\n",
    "                          \"Humidity\": city_humidity,\n",
    "                          \"Cloudiness\": city_clouds,\n",
    "                          \"Wind Speed\": city_wind,\n",
    "                          \"Country\": city_country,\n",
    "                          \"Rain(inches)\": city_rain,\n",
    "                          \"Snow(inches)\": city_snow,\n",
    "                          \"Current Description\": city_description})\n",
    "\n",
    "    # If an error is experienced, skip the city.\n",
    "    except:\n",
    "        print(\"City not found. Skipping...\")\n",
    "        pass\n"
   ]
  },
  {
   "cell_type": "code",
   "execution_count": 7,
   "metadata": {
    "tags": []
   },
   "outputs": [
    {
     "output_type": "stream",
     "name": "stdout",
     "text": "-----------------------------\nData Retrieval Complete      \n-----------------------------\n"
    }
   ],
   "source": [
    "# Indicate that Data Loading is complete.\n",
    "print(\"-----------------------------\")\n",
    "print(\"Data Retrieval Complete      \")\n",
    "print(\"-----------------------------\")"
   ]
  },
  {
   "cell_type": "code",
   "execution_count": 8,
   "metadata": {},
   "outputs": [
    {
     "output_type": "execute_result",
     "data": {
      "text/plain": "         City    Lat     Lng  Max Temp  Humidity  Cloudiness  Wind Speed  \\\n0   Namatanai  -3.67  152.43     83.61        75          32        9.57   \n1        Nome  64.50 -165.41     50.00        81           1       21.92   \n2  Willowmore -33.29   23.49     48.63        47           0        2.37   \n3     Aljezur  37.32   -8.80     69.01        80           0        7.23   \n4     Rikitea -23.12 -134.97     66.63        72         100       19.51   \n5     Kodinar  20.79   70.70     86.92        70         100       12.66   \n6   Jamestown  42.10  -79.24     71.01        94          75        3.36   \n7     Angoram  -4.06  144.07     85.19        74          27        5.08   \n8     Dudinka  69.41   86.18     55.40        66          40       26.84   \n9        Lata  40.16   -8.33     64.00        78           0        1.21   \n\n  Country  Rain(inches)  Snow(inches) Current Description  \n0      PG          0.59             0          light rain  \n1      US          0.00             0           clear sky  \n2      ZA          0.00             0           clear sky  \n3      PT          0.00             0           clear sky  \n4      PF          0.18             0          light rain  \n5      IN          0.00             0     overcast clouds  \n6      US          0.00             0        thunderstorm  \n7      PG          0.40             0          light rain  \n8      RU          0.00             0    scattered clouds  \n9      PT          0.00             0           clear sky  ",
      "text/html": "<div>\n<style scoped>\n    .dataframe tbody tr th:only-of-type {\n        vertical-align: middle;\n    }\n\n    .dataframe tbody tr th {\n        vertical-align: top;\n    }\n\n    .dataframe thead th {\n        text-align: right;\n    }\n</style>\n<table border=\"1\" class=\"dataframe\">\n  <thead>\n    <tr style=\"text-align: right;\">\n      <th></th>\n      <th>City</th>\n      <th>Lat</th>\n      <th>Lng</th>\n      <th>Max Temp</th>\n      <th>Humidity</th>\n      <th>Cloudiness</th>\n      <th>Wind Speed</th>\n      <th>Country</th>\n      <th>Rain(inches)</th>\n      <th>Snow(inches)</th>\n      <th>Current Description</th>\n    </tr>\n  </thead>\n  <tbody>\n    <tr>\n      <th>0</th>\n      <td>Namatanai</td>\n      <td>-3.67</td>\n      <td>152.43</td>\n      <td>83.61</td>\n      <td>75</td>\n      <td>32</td>\n      <td>9.57</td>\n      <td>PG</td>\n      <td>0.59</td>\n      <td>0</td>\n      <td>light rain</td>\n    </tr>\n    <tr>\n      <th>1</th>\n      <td>Nome</td>\n      <td>64.50</td>\n      <td>-165.41</td>\n      <td>50.00</td>\n      <td>81</td>\n      <td>1</td>\n      <td>21.92</td>\n      <td>US</td>\n      <td>0.00</td>\n      <td>0</td>\n      <td>clear sky</td>\n    </tr>\n    <tr>\n      <th>2</th>\n      <td>Willowmore</td>\n      <td>-33.29</td>\n      <td>23.49</td>\n      <td>48.63</td>\n      <td>47</td>\n      <td>0</td>\n      <td>2.37</td>\n      <td>ZA</td>\n      <td>0.00</td>\n      <td>0</td>\n      <td>clear sky</td>\n    </tr>\n    <tr>\n      <th>3</th>\n      <td>Aljezur</td>\n      <td>37.32</td>\n      <td>-8.80</td>\n      <td>69.01</td>\n      <td>80</td>\n      <td>0</td>\n      <td>7.23</td>\n      <td>PT</td>\n      <td>0.00</td>\n      <td>0</td>\n      <td>clear sky</td>\n    </tr>\n    <tr>\n      <th>4</th>\n      <td>Rikitea</td>\n      <td>-23.12</td>\n      <td>-134.97</td>\n      <td>66.63</td>\n      <td>72</td>\n      <td>100</td>\n      <td>19.51</td>\n      <td>PF</td>\n      <td>0.18</td>\n      <td>0</td>\n      <td>light rain</td>\n    </tr>\n    <tr>\n      <th>5</th>\n      <td>Kodinar</td>\n      <td>20.79</td>\n      <td>70.70</td>\n      <td>86.92</td>\n      <td>70</td>\n      <td>100</td>\n      <td>12.66</td>\n      <td>IN</td>\n      <td>0.00</td>\n      <td>0</td>\n      <td>overcast clouds</td>\n    </tr>\n    <tr>\n      <th>6</th>\n      <td>Jamestown</td>\n      <td>42.10</td>\n      <td>-79.24</td>\n      <td>71.01</td>\n      <td>94</td>\n      <td>75</td>\n      <td>3.36</td>\n      <td>US</td>\n      <td>0.00</td>\n      <td>0</td>\n      <td>thunderstorm</td>\n    </tr>\n    <tr>\n      <th>7</th>\n      <td>Angoram</td>\n      <td>-4.06</td>\n      <td>144.07</td>\n      <td>85.19</td>\n      <td>74</td>\n      <td>27</td>\n      <td>5.08</td>\n      <td>PG</td>\n      <td>0.40</td>\n      <td>0</td>\n      <td>light rain</td>\n    </tr>\n    <tr>\n      <th>8</th>\n      <td>Dudinka</td>\n      <td>69.41</td>\n      <td>86.18</td>\n      <td>55.40</td>\n      <td>66</td>\n      <td>40</td>\n      <td>26.84</td>\n      <td>RU</td>\n      <td>0.00</td>\n      <td>0</td>\n      <td>scattered clouds</td>\n    </tr>\n    <tr>\n      <th>9</th>\n      <td>Lata</td>\n      <td>40.16</td>\n      <td>-8.33</td>\n      <td>64.00</td>\n      <td>78</td>\n      <td>0</td>\n      <td>1.21</td>\n      <td>PT</td>\n      <td>0.00</td>\n      <td>0</td>\n      <td>clear sky</td>\n    </tr>\n  </tbody>\n</table>\n</div>"
     },
     "metadata": {},
     "execution_count": 8
    }
   ],
   "source": [
    "# Convert the array of dictionaries to a Pandas DataFrame.\n",
    "city_data_df = pd.DataFrame(city_data)\n",
    "city_data_df.head(10)"
   ]
  },
  {
   "cell_type": "code",
   "execution_count": 11,
   "metadata": {},
   "outputs": [
    {
     "output_type": "execute_result",
     "data": {
      "text/plain": "         City Country    Lat     Lng  Max Temp  Humidity  Cloudiness  \\\n0   Namatanai      PG  -3.67  152.43     83.61        75          32   \n1        Nome      US  64.50 -165.41     50.00        81           1   \n2  Willowmore      ZA -33.29   23.49     48.63        47           0   \n3     Aljezur      PT  37.32   -8.80     69.01        80           0   \n4     Rikitea      PF -23.12 -134.97     66.63        72         100   \n5     Kodinar      IN  20.79   70.70     86.92        70         100   \n6   Jamestown      US  42.10  -79.24     71.01        94          75   \n7     Angoram      PG  -4.06  144.07     85.19        74          27   \n8     Dudinka      RU  69.41   86.18     55.40        66          40   \n9        Lata      PT  40.16   -8.33     64.00        78           0   \n\n   Wind Speed Current Description  Rain(inches)  Snow(inches)  \n0        9.57          light rain          0.59             0  \n1       21.92           clear sky          0.00             0  \n2        2.37           clear sky          0.00             0  \n3        7.23           clear sky          0.00             0  \n4       19.51          light rain          0.18             0  \n5       12.66     overcast clouds          0.00             0  \n6        3.36        thunderstorm          0.00             0  \n7        5.08          light rain          0.40             0  \n8       26.84    scattered clouds          0.00             0  \n9        1.21           clear sky          0.00             0  ",
      "text/html": "<div>\n<style scoped>\n    .dataframe tbody tr th:only-of-type {\n        vertical-align: middle;\n    }\n\n    .dataframe tbody tr th {\n        vertical-align: top;\n    }\n\n    .dataframe thead th {\n        text-align: right;\n    }\n</style>\n<table border=\"1\" class=\"dataframe\">\n  <thead>\n    <tr style=\"text-align: right;\">\n      <th></th>\n      <th>City</th>\n      <th>Country</th>\n      <th>Lat</th>\n      <th>Lng</th>\n      <th>Max Temp</th>\n      <th>Humidity</th>\n      <th>Cloudiness</th>\n      <th>Wind Speed</th>\n      <th>Current Description</th>\n      <th>Rain(inches)</th>\n      <th>Snow(inches)</th>\n    </tr>\n  </thead>\n  <tbody>\n    <tr>\n      <th>0</th>\n      <td>Namatanai</td>\n      <td>PG</td>\n      <td>-3.67</td>\n      <td>152.43</td>\n      <td>83.61</td>\n      <td>75</td>\n      <td>32</td>\n      <td>9.57</td>\n      <td>light rain</td>\n      <td>0.59</td>\n      <td>0</td>\n    </tr>\n    <tr>\n      <th>1</th>\n      <td>Nome</td>\n      <td>US</td>\n      <td>64.50</td>\n      <td>-165.41</td>\n      <td>50.00</td>\n      <td>81</td>\n      <td>1</td>\n      <td>21.92</td>\n      <td>clear sky</td>\n      <td>0.00</td>\n      <td>0</td>\n    </tr>\n    <tr>\n      <th>2</th>\n      <td>Willowmore</td>\n      <td>ZA</td>\n      <td>-33.29</td>\n      <td>23.49</td>\n      <td>48.63</td>\n      <td>47</td>\n      <td>0</td>\n      <td>2.37</td>\n      <td>clear sky</td>\n      <td>0.00</td>\n      <td>0</td>\n    </tr>\n    <tr>\n      <th>3</th>\n      <td>Aljezur</td>\n      <td>PT</td>\n      <td>37.32</td>\n      <td>-8.80</td>\n      <td>69.01</td>\n      <td>80</td>\n      <td>0</td>\n      <td>7.23</td>\n      <td>clear sky</td>\n      <td>0.00</td>\n      <td>0</td>\n    </tr>\n    <tr>\n      <th>4</th>\n      <td>Rikitea</td>\n      <td>PF</td>\n      <td>-23.12</td>\n      <td>-134.97</td>\n      <td>66.63</td>\n      <td>72</td>\n      <td>100</td>\n      <td>19.51</td>\n      <td>light rain</td>\n      <td>0.18</td>\n      <td>0</td>\n    </tr>\n    <tr>\n      <th>5</th>\n      <td>Kodinar</td>\n      <td>IN</td>\n      <td>20.79</td>\n      <td>70.70</td>\n      <td>86.92</td>\n      <td>70</td>\n      <td>100</td>\n      <td>12.66</td>\n      <td>overcast clouds</td>\n      <td>0.00</td>\n      <td>0</td>\n    </tr>\n    <tr>\n      <th>6</th>\n      <td>Jamestown</td>\n      <td>US</td>\n      <td>42.10</td>\n      <td>-79.24</td>\n      <td>71.01</td>\n      <td>94</td>\n      <td>75</td>\n      <td>3.36</td>\n      <td>thunderstorm</td>\n      <td>0.00</td>\n      <td>0</td>\n    </tr>\n    <tr>\n      <th>7</th>\n      <td>Angoram</td>\n      <td>PG</td>\n      <td>-4.06</td>\n      <td>144.07</td>\n      <td>85.19</td>\n      <td>74</td>\n      <td>27</td>\n      <td>5.08</td>\n      <td>light rain</td>\n      <td>0.40</td>\n      <td>0</td>\n    </tr>\n    <tr>\n      <th>8</th>\n      <td>Dudinka</td>\n      <td>RU</td>\n      <td>69.41</td>\n      <td>86.18</td>\n      <td>55.40</td>\n      <td>66</td>\n      <td>40</td>\n      <td>26.84</td>\n      <td>scattered clouds</td>\n      <td>0.00</td>\n      <td>0</td>\n    </tr>\n    <tr>\n      <th>9</th>\n      <td>Lata</td>\n      <td>PT</td>\n      <td>40.16</td>\n      <td>-8.33</td>\n      <td>64.00</td>\n      <td>78</td>\n      <td>0</td>\n      <td>1.21</td>\n      <td>clear sky</td>\n      <td>0.00</td>\n      <td>0</td>\n    </tr>\n  </tbody>\n</table>\n</div>"
     },
     "metadata": {},
     "execution_count": 11
    }
   ],
   "source": [
    "new_column_order = [\"City\", \"Country\", \"Lat\", \"Lng\", \"Max Temp\", \"Humidity\", \"Cloudiness\", \"Wind Speed\", \"Current Description\", \"Rain(inches)\", \"Snow(inches)\"]\n",
    "city_data_df = city_data_df.reindex(columns = new_column_order)\n",
    "city_data_df.head(10)"
   ]
  },
  {
   "cell_type": "code",
   "execution_count": 10,
   "metadata": {},
   "outputs": [],
   "source": [
    "# Create the output file (CSV).\n",
    "output_data_file = \"weather_data/WeatherPy_database.csv\"\n",
    "# Export the City_Data into a CSV.\n",
    "city_data_df.to_csv(output_data_file, index_label=\"City_ID\")"
   ]
  },
  {
   "cell_type": "code",
   "execution_count": null,
   "metadata": {},
   "outputs": [],
   "source": []
  }
 ]
}