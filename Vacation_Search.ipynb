{
 "metadata": {
  "language_info": {
   "codemirror_mode": {
    "name": "ipython",
    "version": 3
   },
   "file_extension": ".py",
   "mimetype": "text/x-python",
   "name": "python",
   "nbconvert_exporter": "python",
   "pygments_lexer": "ipython3",
   "version": "3.7.7-final"
  },
  "orig_nbformat": 2,
  "kernelspec": {
   "name": "pythondata",
   "display_name": "PythonData"
  }
 },
 "nbformat": 4,
 "nbformat_minor": 2,
 "cells": [
  {
   "cell_type": "code",
   "execution_count": 1,
   "metadata": {},
   "outputs": [],
   "source": [
    "# Import the dependencies.\n",
    "import pandas as pd\n",
    "import gmaps\n",
    "import requests\n",
    "# Import the API key.\n",
    "from config import g_key"
   ]
  },
  {
   "cell_type": "code",
   "execution_count": 3,
   "metadata": {},
   "outputs": [
    {
     "output_type": "execute_result",
     "data": {
      "text/plain": "   City_ID      City Country    Lat     Lng  Max Temp  Humidity  Cloudiness  \\\n0        0       Bol      TD  13.46   14.71     79.88        74          53   \n1        1    Linxia      CN  35.60  103.21     81.37        34          20   \n2        2      Biak      ID  -0.91  122.88     80.26        79           5   \n3        3  Hermanus      ZA -34.42   19.23     62.01        73           0   \n4        4    Atuona      PF  -9.80 -139.03     79.70        78          46   \n\n   Wind Speed Current Description  Rain(inches)  Snow(inches)  \n0        8.61       broken clouds           0.0             0  \n1        4.68          few clouds           0.0             0  \n2        6.38           clear sky           0.0             0  \n3        3.00           clear sky           0.0             0  \n4       19.35    scattered clouds           0.0             0  ",
      "text/html": "<div>\n<style scoped>\n    .dataframe tbody tr th:only-of-type {\n        vertical-align: middle;\n    }\n\n    .dataframe tbody tr th {\n        vertical-align: top;\n    }\n\n    .dataframe thead th {\n        text-align: right;\n    }\n</style>\n<table border=\"1\" class=\"dataframe\">\n  <thead>\n    <tr style=\"text-align: right;\">\n      <th></th>\n      <th>City_ID</th>\n      <th>City</th>\n      <th>Country</th>\n      <th>Lat</th>\n      <th>Lng</th>\n      <th>Max Temp</th>\n      <th>Humidity</th>\n      <th>Cloudiness</th>\n      <th>Wind Speed</th>\n      <th>Current Description</th>\n      <th>Rain(inches)</th>\n      <th>Snow(inches)</th>\n    </tr>\n  </thead>\n  <tbody>\n    <tr>\n      <th>0</th>\n      <td>0</td>\n      <td>Bol</td>\n      <td>TD</td>\n      <td>13.46</td>\n      <td>14.71</td>\n      <td>79.88</td>\n      <td>74</td>\n      <td>53</td>\n      <td>8.61</td>\n      <td>broken clouds</td>\n      <td>0.0</td>\n      <td>0</td>\n    </tr>\n    <tr>\n      <th>1</th>\n      <td>1</td>\n      <td>Linxia</td>\n      <td>CN</td>\n      <td>35.60</td>\n      <td>103.21</td>\n      <td>81.37</td>\n      <td>34</td>\n      <td>20</td>\n      <td>4.68</td>\n      <td>few clouds</td>\n      <td>0.0</td>\n      <td>0</td>\n    </tr>\n    <tr>\n      <th>2</th>\n      <td>2</td>\n      <td>Biak</td>\n      <td>ID</td>\n      <td>-0.91</td>\n      <td>122.88</td>\n      <td>80.26</td>\n      <td>79</td>\n      <td>5</td>\n      <td>6.38</td>\n      <td>clear sky</td>\n      <td>0.0</td>\n      <td>0</td>\n    </tr>\n    <tr>\n      <th>3</th>\n      <td>3</td>\n      <td>Hermanus</td>\n      <td>ZA</td>\n      <td>-34.42</td>\n      <td>19.23</td>\n      <td>62.01</td>\n      <td>73</td>\n      <td>0</td>\n      <td>3.00</td>\n      <td>clear sky</td>\n      <td>0.0</td>\n      <td>0</td>\n    </tr>\n    <tr>\n      <th>4</th>\n      <td>4</td>\n      <td>Atuona</td>\n      <td>PF</td>\n      <td>-9.80</td>\n      <td>-139.03</td>\n      <td>79.70</td>\n      <td>78</td>\n      <td>46</td>\n      <td>19.35</td>\n      <td>scattered clouds</td>\n      <td>0.0</td>\n      <td>0</td>\n    </tr>\n  </tbody>\n</table>\n</div>"
     },
     "metadata": {},
     "execution_count": 3
    }
   ],
   "source": [
    "# Store the CSV you saved created in part one into a DataFrame.\n",
    "city_data_df = pd.read_csv(\"weather_data/WeatherPy_database.csv\")\n",
    "city_data_df.head()"
   ]
  },
  {
   "cell_type": "code",
   "execution_count": null,
   "metadata": {},
   "outputs": [],
   "source": []
  }
 ]
}