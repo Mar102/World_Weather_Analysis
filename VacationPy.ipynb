{
 "cells": [
  {
   "cell_type": "code",
   "execution_count": 38,
   "metadata": {},
   "outputs": [],
   "source": [
    "# Import the dependencies.\n",
    "import pandas as pd\n",
    "import gmaps\n",
    "import requests\n",
    "# Import the API key.\n",
    "from config import g_key"
   ]
  },
  {
   "cell_type": "code",
   "execution_count": 39,
   "metadata": {},
   "outputs": [
    {
     "output_type": "execute_result",
     "data": {
      "text/plain": "   City_ID             City Country                 Date    Lat     Lng  \\\n0        0       Bredasdorp      ZA  2020-07-20 04:37:01 -34.53   20.04   \n1        1        Upernavik      GL  2020-07-20 04:37:22  72.79  -56.15   \n2        2       Codrington      AU  2020-07-20 04:38:07 -38.27  141.97   \n3        3  Arraial Do Cabo      BR  2020-07-20 04:37:01 -22.97  -42.03   \n4        4     Richards Bay      ZA  2020-07-20 04:36:10 -28.78   32.04   \n\n   Max Temp  Humidity  Cloudiness  Wind Speed  \n0     53.60        93          29        1.12  \n1     48.52        57          19        5.57  \n2     52.61        73          80       12.24  \n3     70.34        85           0       21.77  \n4     55.67        75           0        7.18  ",
      "text/html": "<div>\n<style scoped>\n    .dataframe tbody tr th:only-of-type {\n        vertical-align: middle;\n    }\n\n    .dataframe tbody tr th {\n        vertical-align: top;\n    }\n\n    .dataframe thead th {\n        text-align: right;\n    }\n</style>\n<table border=\"1\" class=\"dataframe\">\n  <thead>\n    <tr style=\"text-align: right;\">\n      <th></th>\n      <th>City_ID</th>\n      <th>City</th>\n      <th>Country</th>\n      <th>Date</th>\n      <th>Lat</th>\n      <th>Lng</th>\n      <th>Max Temp</th>\n      <th>Humidity</th>\n      <th>Cloudiness</th>\n      <th>Wind Speed</th>\n    </tr>\n  </thead>\n  <tbody>\n    <tr>\n      <th>0</th>\n      <td>0</td>\n      <td>Bredasdorp</td>\n      <td>ZA</td>\n      <td>2020-07-20 04:37:01</td>\n      <td>-34.53</td>\n      <td>20.04</td>\n      <td>53.60</td>\n      <td>93</td>\n      <td>29</td>\n      <td>1.12</td>\n    </tr>\n    <tr>\n      <th>1</th>\n      <td>1</td>\n      <td>Upernavik</td>\n      <td>GL</td>\n      <td>2020-07-20 04:37:22</td>\n      <td>72.79</td>\n      <td>-56.15</td>\n      <td>48.52</td>\n      <td>57</td>\n      <td>19</td>\n      <td>5.57</td>\n    </tr>\n    <tr>\n      <th>2</th>\n      <td>2</td>\n      <td>Codrington</td>\n      <td>AU</td>\n      <td>2020-07-20 04:38:07</td>\n      <td>-38.27</td>\n      <td>141.97</td>\n      <td>52.61</td>\n      <td>73</td>\n      <td>80</td>\n      <td>12.24</td>\n    </tr>\n    <tr>\n      <th>3</th>\n      <td>3</td>\n      <td>Arraial Do Cabo</td>\n      <td>BR</td>\n      <td>2020-07-20 04:37:01</td>\n      <td>-22.97</td>\n      <td>-42.03</td>\n      <td>70.34</td>\n      <td>85</td>\n      <td>0</td>\n      <td>21.77</td>\n    </tr>\n    <tr>\n      <th>4</th>\n      <td>4</td>\n      <td>Richards Bay</td>\n      <td>ZA</td>\n      <td>2020-07-20 04:36:10</td>\n      <td>-28.78</td>\n      <td>32.04</td>\n      <td>55.67</td>\n      <td>75</td>\n      <td>0</td>\n      <td>7.18</td>\n    </tr>\n  </tbody>\n</table>\n</div>"
     },
     "metadata": {},
     "execution_count": 39
    }
   ],
   "source": [
    "# Store the CSV you saved created in part one into a DataFrame.\n",
    "city_data_df = pd.read_csv(\"weather_data/cities.csv\")\n",
    "city_data_df.head()"
   ]
  },
  {
   "cell_type": "code",
   "execution_count": 40,
   "metadata": {},
   "outputs": [
    {
     "output_type": "execute_result",
     "data": {
      "text/plain": "City_ID         int64\nCity           object\nCountry        object\nDate           object\nLat           float64\nLng           float64\nMax Temp      float64\nHumidity        int64\nCloudiness      int64\nWind Speed    float64\ndtype: object"
     },
     "metadata": {},
     "execution_count": 40
    }
   ],
   "source": [
    "city_data_df.dtypes"
   ]
  },
  {
   "cell_type": "code",
   "execution_count": 41,
   "metadata": {},
   "outputs": [],
   "source": [
    "# Configure gmaps to use your Google API key. (tells gmaps to use API key)\n",
    "gmaps.configure(api_key=g_key)"
   ]
  },
  {
   "cell_type": "code",
   "execution_count": 42,
   "metadata": {},
   "outputs": [],
   "source": [
    "# Google maps gives error with negative numbers, must remove them \n",
    "# Get the maximum temperature.\n",
    "#max_temp = city_data_df[\"Max Temp\"]\n",
    "#temps = []\n",
    "#for temp in max_temp:\n",
    "   # temps.append(max(temp, 0))"
   ]
  },
  {
   "cell_type": "code",
   "execution_count": 48,
   "metadata": {},
   "outputs": [
    {
     "output_type": "display_data",
     "data": {
      "text/plain": "Figure(layout=FigureLayout(height='420px'))",
      "application/vnd.jupyter.widget-view+json": {
       "version_major": 2,
       "version_minor": 0,
       "model_id": "767b8c6371ab43e19ed378648b93f7cc"
      }
     },
     "metadata": {}
    }
   ],
   "source": [
    "# 1. Assign the locations to an array of latitude and longitude pairs.\n",
    "locations = city_data_df[[\"Lat\", \"Lng\"]]\n",
    "# 2. Assign the weights variable to some values.\n",
    "max_temp = city_data_df[\"Max Temp\"]# an array of equal length of the locations array.\n",
    "# 3. Assign the figure variable to the gmaps.figure() attribute.\n",
    "fig = gmaps.figure(center=(30.0, 31.0), zoom_level=1.1)\n",
    "# 4. Assign the heatmap_layer variable to the heatmap_layer attribute and add in the locations.\n",
    "heat_layer = gmaps.heatmap_layer(locations, weights=[max(temp,0) for temp in max_temp])\n",
    "\n",
    "# 5. Add the heatmap layer.\n",
    "fig.add_layer(heat_layer)\n",
    "# 6. Call the figure to plot the data.\n",
    "fig"
   ]
  },
  {
   "cell_type": "code",
   "execution_count": null,
   "metadata": {},
   "outputs": [],
   "source": []
  }
 ],
 "metadata": {
  "language_info": {
   "codemirror_mode": {
    "name": "ipython",
    "version": 3
   },
   "file_extension": ".py",
   "mimetype": "text/x-python",
   "name": "python",
   "nbconvert_exporter": "python",
   "pygments_lexer": "ipython3",
   "version": 3
  },
  "orig_nbformat": 2,
  "kernelspec": {
   "name": "python_defaultSpec_1595248926237",
   "display_name": "Python 3.7.7 64-bit"
  }
 },
 "nbformat": 4,
 "nbformat_minor": 2
}